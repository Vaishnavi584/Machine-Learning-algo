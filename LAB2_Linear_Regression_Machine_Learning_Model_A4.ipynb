{
  "nbformat": 4,
  "nbformat_minor": 0,
  "metadata": {
    "colab": {
      "provenance": [],
      "authorship_tag": "ABX9TyNeYuUKy9dwpMzH+dsUD0Jc",
      "include_colab_link": true
    },
    "kernelspec": {
      "name": "python3",
      "display_name": "Python 3"
    },
    "language_info": {
      "name": "python"
    }
  },
  "cells": [
    {
      "cell_type": "markdown",
      "metadata": {
        "id": "view-in-github",
        "colab_type": "text"
      },
      "source": [
        "<a href=\"https://colab.research.google.com/github/Vaishnavi584/Machine-Learning-algo/blob/main/LAB2_Linear_Regression_Machine_Learning_Model_A4.ipynb\" target=\"_parent\"><img src=\"https://colab.research.google.com/assets/colab-badge.svg\" alt=\"Open In Colab\"/></a>"
      ]
    },
    {
      "cell_type": "code",
      "execution_count": 1,
      "metadata": {
        "colab": {
          "base_uri": "https://localhost:8080/"
        },
        "id": "GEtd3SkY5Iny",
        "outputId": "6487da66-0c4c-49da-fad7-1d99ceb591cc"
      },
      "outputs": [
        {
          "output_type": "stream",
          "name": "stdout",
          "text": [
            "[1 2 3 4 5]\n",
            "[1.2 1.8 2.6 3.2 3.8]\n"
          ]
        }
      ],
      "source": [
        "import numpy as np\n",
        "import matplotlib.pyplot as plt\n",
        "y=np.array([1.2,1.8,2.6,3.2,3.8])\n",
        "x=np.array([1,2,3,4,5])\n",
        "print(x)\n",
        "print(y)"
      ]
    },
    {
      "cell_type": "code",
      "source": [
        "x_avg=np.average(x)\n",
        "y_avg=np.average(y)\n",
        "print(x_avg)\n",
        "print(y_avg)"
      ],
      "metadata": {
        "colab": {
          "base_uri": "https://localhost:8080/"
        },
        "id": "P2q7yMJl5_zP",
        "outputId": "d9ea73a8-b4bc-43de-c7b0-02373335c5ab"
      },
      "execution_count": 5,
      "outputs": [
        {
          "output_type": "stream",
          "name": "stdout",
          "text": [
            "3.0\n",
            "2.5200000000000005\n"
          ]
        }
      ]
    },
    {
      "cell_type": "code",
      "source": [
        "x_hat=np.average(x**2)\n",
        "print(x_hat)"
      ],
      "metadata": {
        "colab": {
          "base_uri": "https://localhost:8080/"
        },
        "id": "RE8f0ecA5_2L",
        "outputId": "639415c7-b231-4e5e-d2f5-95482f1a00bd"
      },
      "execution_count": 6,
      "outputs": [
        {
          "output_type": "stream",
          "name": "stdout",
          "text": [
            "11.0\n"
          ]
        }
      ]
    },
    {
      "cell_type": "code",
      "source": [
        "y_hat=np.average(x**y)\n",
        "print(y_hat)"
      ],
      "metadata": {
        "colab": {
          "base_uri": "https://localhost:8080/"
        },
        "id": "KZ0EgkV35_4-",
        "outputId": "bfddbb43-fad6-4295-f54f-127401f503d9"
      },
      "execution_count": 7,
      "outputs": [
        {
          "output_type": "stream",
          "name": "stdout",
          "text": [
            "111.86332734911903\n"
          ]
        }
      ]
    },
    {
      "cell_type": "code",
      "source": [
        "a1=(x_hat*y_hat)-x_hat*y_hat\n",
        "print(a1)"
      ],
      "metadata": {
        "colab": {
          "base_uri": "https://localhost:8080/"
        },
        "id": "bMTmy27h5_7v",
        "outputId": "7ee3e57c-a338-458d-bc1d-d7b83883a67d"
      },
      "execution_count": 8,
      "outputs": [
        {
          "output_type": "stream",
          "name": "stdout",
          "text": [
            "0.0\n"
          ]
        }
      ]
    },
    {
      "cell_type": "code",
      "source": [
        "a0=y_hat-a1*x_hat\n",
        "print(a0)"
      ],
      "metadata": {
        "colab": {
          "base_uri": "https://localhost:8080/"
        },
        "id": "9dnx-M1h5_-e",
        "outputId": "f8aa0a7c-5706-4b58-a2e7-03abd6ce39c0"
      },
      "execution_count": 9,
      "outputs": [
        {
          "output_type": "stream",
          "name": "stdout",
          "text": [
            "111.86332734911903\n"
          ]
        }
      ]
    },
    {
      "cell_type": "code",
      "source": [
        "a1=((y_hat)-(x_avg)*(y_avg))/((x_hat)-(x_avg*x_avg))"
      ],
      "metadata": {
        "id": "JwZUso7R6ABL"
      },
      "execution_count": 11,
      "outputs": []
    },
    {
      "cell_type": "code",
      "source": [
        "a0=(y_avg)-a1*(x_avg)"
      ],
      "metadata": {
        "id": "K2_OgQlI6AEF"
      },
      "execution_count": 12,
      "outputs": []
    },
    {
      "cell_type": "code",
      "source": [
        "print(a1)"
      ],
      "metadata": {
        "colab": {
          "base_uri": "https://localhost:8080/"
        },
        "id": "qVLuJxeK7suW",
        "outputId": "c2a7f0f7-75a0-4144-f2dd-90702ce48f36"
      },
      "execution_count": 13,
      "outputs": [
        {
          "output_type": "stream",
          "name": "stdout",
          "text": [
            "52.151663674559515\n"
          ]
        }
      ]
    },
    {
      "cell_type": "code",
      "source": [
        "print(a0)"
      ],
      "metadata": {
        "colab": {
          "base_uri": "https://localhost:8080/"
        },
        "id": "6Yxk0E4T7sw5",
        "outputId": "4425db5b-41c8-4c2f-d702-1fd2f2a1b4fc"
      },
      "execution_count": 14,
      "outputs": [
        {
          "output_type": "stream",
          "name": "stdout",
          "text": [
            "-153.93499102367852\n"
          ]
        }
      ]
    },
    {
      "cell_type": "code",
      "source": [
        "x=3\n",
        "y=a0+a1*x\n",
        "print(y)"
      ],
      "metadata": {
        "colab": {
          "base_uri": "https://localhost:8080/"
        },
        "id": "xEZyhyGw7szn",
        "outputId": "2034bf6f-0f39-4193-a508-24477c148b13"
      },
      "execution_count": 15,
      "outputs": [
        {
          "output_type": "stream",
          "name": "stdout",
          "text": [
            "2.5200000000000102\n"
          ]
        }
      ]
    },
    {
      "cell_type": "code",
      "source": [
        "x=12\n",
        "y=a0+a1*x\n",
        "print(y)"
      ],
      "metadata": {
        "colab": {
          "base_uri": "https://localhost:8080/"
        },
        "id": "u6GmK3vB7s2_",
        "outputId": "90528fa8-3d3e-4e57-ae4a-5001b99c5bc2"
      },
      "execution_count": 16,
      "outputs": [
        {
          "output_type": "stream",
          "name": "stdout",
          "text": [
            "471.8849730710356\n"
          ]
        }
      ]
    },
    {
      "cell_type": "code",
      "source": [
        "# Here we start the Matrix Method"
      ],
      "metadata": {
        "id": "b7cG2i-F6AGl"
      },
      "execution_count": 17,
      "outputs": []
    },
    {
      "cell_type": "code",
      "source": [
        "import numpy as np\n",
        "x=np.array([[[1,1.2],[2,1.8],[3,2.6],[4,3.2]]])\n",
        "print(x)\n",
        "print(type(x))\n",
        "print(x.ndim)"
      ],
      "metadata": {
        "colab": {
          "base_uri": "https://localhost:8080/"
        },
        "id": "qxQK7FZk6AKB",
        "outputId": "a2a3d9be-3254-42e8-9d96-4398acf9c858"
      },
      "execution_count": 18,
      "outputs": [
        {
          "output_type": "stream",
          "name": "stdout",
          "text": [
            "[[[1.  1.2]\n",
            "  [2.  1.8]\n",
            "  [3.  2.6]\n",
            "  [4.  3.2]]]\n",
            "<class 'numpy.ndarray'>\n",
            "3\n"
          ]
        }
      ]
    },
    {
      "cell_type": "code",
      "source": [
        "import numpy as np\n",
        "y=np.array([1.2,1.8,2.6,3.2])\n",
        "print(y)\n",
        "print(type(y))\n",
        "print(y.ndim)"
      ],
      "metadata": {
        "colab": {
          "base_uri": "https://localhost:8080/"
        },
        "id": "QIZjXA3v7_JC",
        "outputId": "8d83da0f-a7df-4099-cd01-c9cb8a9cca69"
      },
      "execution_count": 19,
      "outputs": [
        {
          "output_type": "stream",
          "name": "stdout",
          "text": [
            "[1.2 1.8 2.6 3.2]\n",
            "<class 'numpy.ndarray'>\n",
            "1\n"
          ]
        }
      ]
    },
    {
      "cell_type": "code",
      "source": [
        "import numpy as np\n",
        "xtrans=np.transpose(x)\n",
        "print(xtrans)"
      ],
      "metadata": {
        "colab": {
          "base_uri": "https://localhost:8080/"
        },
        "id": "uiZYDmHM8G48",
        "outputId": "eca2ed78-9948-4c08-98f4-240e1522d01d"
      },
      "execution_count": 20,
      "outputs": [
        {
          "output_type": "stream",
          "name": "stdout",
          "text": [
            "[[[1. ]\n",
            "  [2. ]\n",
            "  [3. ]\n",
            "  [4. ]]\n",
            "\n",
            " [[1.2]\n",
            "  [1.8]\n",
            "  [2.6]\n",
            "  [3.2]]]\n"
          ]
        }
      ]
    },
    {
      "cell_type": "code",
      "source": [
        "import numpy as np\n",
        "x=np.array([[[1,2,3],[4,5,6],[7,8,9]]])\n",
        "print(x)\n",
        "print(type(x))\n",
        "print(x.ndim)\n"
      ],
      "metadata": {
        "colab": {
          "base_uri": "https://localhost:8080/"
        },
        "id": "85mElz678G7h",
        "outputId": "d67f8b1b-52fb-40b4-f6e2-b3d50f1411e5"
      },
      "execution_count": 21,
      "outputs": [
        {
          "output_type": "stream",
          "name": "stdout",
          "text": [
            "[[[1 2 3]\n",
            "  [4 5 6]\n",
            "  [7 8 9]]]\n",
            "<class 'numpy.ndarray'>\n",
            "3\n"
          ]
        }
      ]
    },
    {
      "cell_type": "code",
      "source": [
        "import numpy as np\n",
        "x=np.array([1,2,3,4,5])\n",
        "s=np.sum(x)\n",
        "print(s)\n",
        "n=len(x)\n",
        "#p=np.sum(x)\n",
        "r=np.divide(s,n)\n",
        "print(r)"
      ],
      "metadata": {
        "colab": {
          "base_uri": "https://localhost:8080/"
        },
        "id": "FfUKVA_y8G_H",
        "outputId": "c54d7fbf-7694-4b00-dce3-6296c8fd8249"
      },
      "execution_count": 22,
      "outputs": [
        {
          "output_type": "stream",
          "name": "stdout",
          "text": [
            "15\n",
            "3.0\n"
          ]
        }
      ]
    },
    {
      "cell_type": "code",
      "source": [
        "import numpy as np\n",
        "x=np.array([[[1,2,3],[4,5,6],[7,8,9]]])\n",
        "y=np.array([[[3,4,6],[8,7,5],[9,8,10]]])\n",
        "n=np.add(x,y)\n",
        "z=np.prod(x)\n",
        "print(n)\n",
        "print(z)"
      ],
      "metadata": {
        "colab": {
          "base_uri": "https://localhost:8080/"
        },
        "id": "ciPG0N8l7_MX",
        "outputId": "8226f9bd-19c5-4305-9dbc-9d70a73eb566"
      },
      "execution_count": 23,
      "outputs": [
        {
          "output_type": "stream",
          "name": "stdout",
          "text": [
            "[[[ 4  6  9]\n",
            "  [12 12 11]\n",
            "  [16 16 19]]]\n",
            "362880\n"
          ]
        }
      ]
    },
    {
      "cell_type": "code",
      "source": [
        "import numpy as np\n",
        "import matplotlib.pyplot as plt\n",
        "\n",
        "x = np.array([1, 2, 3, 4, 5])\n",
        "y = np.array([1.2, 1.8, 2.6, 3.2, 3.8])\n",
        "\n",
        "plt.plot(x, y)\n",
        "plt.show()\n",
        "\n",
        "# Summations and averages\n",
        "xsum = np.sum(x)\n",
        "ysum = np.sum(y)\n",
        "xavg = np.average(x)\n",
        "yavg = np.average(y)\n",
        "xy = x * y\n",
        "xysum = np.sum(xy)\n",
        "xyavg = np.average(xy)\n",
        "\n",
        "num = xyavg\n",
        "print(f\"xysum: {xysum}, xyavg: {xyavg}, num: {num}\")\n"
      ],
      "metadata": {
        "colab": {
          "base_uri": "https://localhost:8080/",
          "height": 448
        },
        "id": "oeaYz5es8W4F",
        "outputId": "e228b16f-7aef-4fee-dfd8-80b86735bf27"
      },
      "execution_count": 24,
      "outputs": [
        {
          "output_type": "display_data",
          "data": {
            "text/plain": [
              "<Figure size 640x480 with 1 Axes>"
            ],
            "image/png": "[encoded data removed]"
          },
          "metadata": {}
        },
        {
          "output_type": "stream",
          "name": "stdout",
          "text": [
            "xysum: 44.400000000000006, xyavg: 8.88, num: 8.88\n"
          ]
        }
      ]
    },
    {
      "cell_type": "code",
      "source": [
        "import numpy as np\n",
        "import matplotlib.pyplot as plt\n",
        "\n",
        "\n",
        "x_train = np.array([1.0, 2.0, 3.0,5.0,8.0])\n",
        "y_train = np.array([300.0, 500.0, 800.0,900.0, 500.0])\n",
        "print(f\"x_train = {x_train}\")\n",
        "print(f\"y_train = {y_train}\")\n"
      ],
      "metadata": {
        "colab": {
          "base_uri": "https://localhost:8080/"
        },
        "id": "CNlFLWAF8W7i",
        "outputId": "306427b1-4d46-4a8f-ddf9-e3bb6f779356"
      },
      "execution_count": 25,
      "outputs": [
        {
          "output_type": "stream",
          "name": "stdout",
          "text": [
            "x_train = [1. 2. 3. 5. 8.]\n",
            "y_train = [300. 500. 800. 900. 500.]\n"
          ]
        }
      ]
    },
    {
      "cell_type": "code",
      "source": [
        "# m is the number of training examples\n",
        "print(f\"x_train.shape: {x_train.shape}\")\n",
        "m = x_train.shape[0]\n",
        "print(f\"Number of training examples is: {m}\")"
      ],
      "metadata": {
        "colab": {
          "base_uri": "https://localhost:8080/"
        },
        "id": "kqeV89ai8hyo",
        "outputId": "726a7454-145a-489f-a1a9-4afc5c034b8f"
      },
      "execution_count": 26,
      "outputs": [
        {
          "output_type": "stream",
          "name": "stdout",
          "text": [
            "x_train.shape: (5,)\n",
            "Number of training examples is: 5\n"
          ]
        }
      ]
    },
    {
      "cell_type": "code",
      "source": [
        "# m is the number of training examples\n",
        "m = len(x_train)\n",
        "print(f\"Number of training examples is: {m}\")"
      ],
      "metadata": {
        "colab": {
          "base_uri": "https://localhost:8080/"
        },
        "id": "kdusGhmO8h2G",
        "outputId": "c60de500-34aa-4a73-e368-e494b03432a4"
      },
      "execution_count": 27,
      "outputs": [
        {
          "output_type": "stream",
          "name": "stdout",
          "text": [
            "Number of training examples is: 5\n"
          ]
        }
      ]
    },
    {
      "cell_type": "code",
      "source": [
        "i = 0 # Change this to 1 to see (x^1, y^1)\n",
        "\n",
        "x_i = x_train[i]\n",
        "y_i = y_train[i]\n",
        "print(f\"(x^({i}), y^({i})) = ({x_i}, {y_i})\")"
      ],
      "metadata": {
        "colab": {
          "base_uri": "https://localhost:8080/"
        },
        "id": "5_nb5fRK8h69",
        "outputId": "336495d6-5ba3-4e06-b471-dfd815a6d61b"
      },
      "execution_count": 28,
      "outputs": [
        {
          "output_type": "stream",
          "name": "stdout",
          "text": [
            "(x^(0), y^(0)) = (1.0, 300.0)\n"
          ]
        }
      ]
    },
    {
      "cell_type": "code",
      "source": [
        "w = 100\n",
        "b = 100\n",
        "print(f\"w: {w}\")\n",
        "print(f\"b: {b}\")"
      ],
      "metadata": {
        "colab": {
          "base_uri": "https://localhost:8080/"
        },
        "id": "i2lBOI5R8h9k",
        "outputId": "b46a2cfa-8128-465b-c7b6-99f8de9b8d11"
      },
      "execution_count": 29,
      "outputs": [
        {
          "output_type": "stream",
          "name": "stdout",
          "text": [
            "w: 100\n",
            "b: 100\n"
          ]
        }
      ]
    },
    {
      "cell_type": "code",
      "source": [
        "def compute_model_output(x, w, b):\n",
        "    \"\"\"\n",
        "    Computes the prediction of a linear model\n",
        "    Args:_\n",
        "      x (ndarray (m,)): Data, m examples\n",
        "      w,b (scalar)    : model parameters\n",
        "    Returns\n",
        "      f_wb (ndarray (m,)): model prediction\n",
        "    \"\"\"\n",
        "    m = x.shape[0]\n",
        "    f_wb = np.zeros(m)\n",
        "    for i in range(m):\n",
        "        f_wb[i] = w * x[i] + b\n",
        "\n",
        "    return f_wb"
      ],
      "metadata": {
        "id": "WiKmPOKp8iA5"
      },
      "execution_count": 30,
      "outputs": []
    },
    {
      "cell_type": "code",
      "source": [
        "tmp_f_wb = compute_model_output(x_train, w, b,)\n",
        "\n",
        "# Plot our model prediction\n",
        "plt.plot(x_train, tmp_f_wb, c='b',label='Our Prediction')\n",
        "\n",
        "# Plot the data points\n",
        "plt.scatter(x_train, y_train, marker='x', c='r',label='Actual Values')\n",
        "\n",
        "# Set the title\n",
        "plt.title(\"Housing Prices\")\n",
        "# Set the y-axis label\n",
        "plt.ylabel('Price (in 1000s of dollars)')\n",
        "# Set the x-axis label\n",
        "plt.xlabel('Size (1000 sqft)')\n",
        "plt.legend()\n",
        "plt.show()"
      ],
      "metadata": {
        "colab": {
          "base_uri": "https://localhost:8080/",
          "height": 472
        },
        "id": "9FfcZwrm81hW",
        "outputId": "05ac6c79-5dfb-4685-9cc7-2c9a7ad1ff35"
      },
      "execution_count": 31,
      "outputs": [
        {
          "output_type": "display_data",
          "data": {
            "text/plain": [
              "<Figure size 640x480 with 1 Axes>"
            ],
            "image/png": "[encoded data removed]"
          },
          "metadata": {}
        }
      ]
    },
    {
      "cell_type": "code",
      "source": [
        "import numpy as np\n",
        "import matplotlib.pyplot as plt\n",
        "\n",
        "# Define the function to optimize\n",
        "def f(x):\n",
        "    return x**2\n",
        "\n",
        "# Define the derivative of the function\n",
        "def df(x):\n",
        "    return 2*x\n",
        "\n",
        "# Cost function\n",
        "def cost_function(x, y, w, b):\n",
        "    n = x.shape[0]\n",
        "    cost = 0\n",
        "    for i in range(n):\n",
        "        j_wb = w * x[i] + b\n",
        "        diff = j_wb - y[i]\n",
        "        cost = cost + (diff)**2\n",
        "    total_cost = 1 / (2 * n) * cost\n",
        "    return total_cost\n",
        "\n",
        "# Gradient descent\n",
        "def gradient_descent_momentum(x_train, y_train, learning_rate=0.1, momentum=0.9, num_iterations=100, initial_x=5, velocity=0):\n",
        "    x = initial_x\n",
        "    x_values = [initial_x]\n",
        "    f_values = [f(initial_x)]\n",
        "\n",
        "    for i in range(num_iterations):\n",
        "        gradient = df(x)\n",
        "        velocity = momentum * velocity - learning_rate * gradient\n",
        "        x = x + velocity\n",
        "\n",
        "        # Store values for plotting\n",
        "        x_values.append(x)\n",
        "        f_values.append(f(x))\n",
        "\n",
        "        # Print the progress\n",
        "        print(f\"Iteration {i+1}: x = {x}, f(x) = {f(x)}\")\n",
        "\n",
        "    print(f\"Final value: x = {x}, f(x) = {f(x)}\")\n",
        "\n",
        "    return x_values, f_values\n",
        "\n",
        "# Initialize parameters\n",
        "learning_rate = 0.1\n",
        "momentum = 0.9\n",
        "num_iterations = 100\n",
        "initial_x = 5\n",
        "velocity = 0\n",
        "\n",
        "x_train = np.array([1.0, 2.0, 3.0, 5.0, 8.0])\n",
        "y_train = np.array([300.0, 500.0, 800.0, 900.0, 500.0])\n",
        "\n",
        "# Gradient descent\n",
        "x_values, f_values = gradient_descent_momentum(x_train, y_train, learning_rate, momentum, num_iterations, initial_x, velocity)\n",
        "\n",
        "# Plot\n",
        "plt.plot(x_values, f_values, marker='o')\n",
        "plt.xlabel('x')\n",
        "plt.ylabel('f(x)')\n",
        "plt.title('Gradient Descent Optimization with Momentum')\n",
        "plt.show()\n",
        "\n",
        "# Compute and print the cost using the cost function\n",
        "w = 0.1  # Example value for weight\n",
        "b = 0.1  # Example value for bias\n",
        "cost = cost_function(x_train, y_train, w, b)\n",
        "print(f\"Final cost: {cost}\")\n"
      ],
      "metadata": {
        "colab": {
          "base_uri": "https://localhost:8080/",
          "height": 1000
        },
        "id": "Z-PP3WIH81k5",
        "outputId": "64948c53-b613-4c47-a372-1a228932c0ed"
      },
      "execution_count": 32,
      "outputs": [
        {
          "output_type": "stream",
          "name": "stdout",
          "text": [
            "Iteration 1: x = 4.0, f(x) = 16.0\n",
            "Iteration 2: x = 2.3, f(x) = 5.289999999999999\n",
            "Iteration 3: x = 0.3099999999999996, f(x) = 0.09609999999999976\n",
            "Iteration 4: x = -1.5430000000000004, f(x) = 2.3808490000000013\n",
            "Iteration 5: x = -2.9021, f(x) = 8.42218441\n",
            "Iteration 6: x = -3.5448699999999995, f(x) = 12.566103316899996\n",
            "Iteration 7: x = -3.4143889999999995, f(x) = 11.658052243320997\n",
            "Iteration 8: x = -2.614078299999999, f(x) = 6.833405358530886\n",
            "Iteration 9: x = -1.3709830099999991, f(x) = 1.8795944137086578\n",
            "Iteration 10: x = 0.021999353000000665, f(x) = 0.0004839715324186383\n",
            "Iteration 11: x = 1.2712836091000004, f(x) = 1.6161620147663225\n",
            "Iteration 12: x = 2.14138271777, f(x) = 4.585519943964031\n",
            "Iteration 13: x = 2.4961953720189998, f(x) = 6.2309913352890725\n",
            "Iteration 14: x = 2.3162876864392996, f(x) = 5.365188646350323\n",
            "Iteration 15: x = 1.6911132321297095, f(x) = 2.8598639638841927\n",
            "Iteration 16: x = 0.7902335768251365, f(x) = 0.6244691059418489\n",
            "Iteration 17: x = -0.1786048283140066, f(x) = 0.03189968469707577\n",
            "Iteration 18: x = -1.014838427276434, f(x) = 1.0298970334769058\n",
            "Iteration 19: x = -1.564480980887332, f(x) = 2.447600739558188\n",
            "Iteration 20: x = -1.7462630829596737, f(x) = 3.049434754907824\n",
            "Iteration 21: x = -1.5606143582328467, f(x) = 2.43551717512252\n",
            "Iteration 22: x = -1.0814076343321328, f(x) = 1.16944247159182\n",
            "Iteration 23: x = -0.4338400559550638, f(x) = 0.1882171941510929\n",
            "Iteration 24: x = 0.2357387757753111, f(x) = 0.055572770404042404\n",
            "Iteration 25: x = 0.7912119691775863, f(x) = 0.6260163801698737\n",
            "Iteration 26: x = 1.1328954494041166, f(x) = 1.2834520992805551\n",
            "Iteration 27: x = 1.2138314917271706, f(x) = 1.4733868903086083\n",
            "Iteration 28: x = 1.043907631472485, f(x) = 1.089743143046494\n",
            "Iteration 29: x = 0.6821946309487712, f(x) = 0.4653895144953301\n",
            "Iteration 30: x = 0.22021400428767435, f(x) = 0.04849420768441186\n",
            "Iteration 31: x = -0.23961136056484772, f(x) = 0.05741360411173746\n",
            "Iteration 32: x = -0.605531916819148, f(x) = 0.36666890228667154\n",
            "Iteration 33: x = -0.8137540340841887, f(x) = 0.6621956279882909\n",
            "Iteration 34: x = -0.8384031328058876, f(x) = 0.7029198130987269\n",
            "Iteration 35: x = -0.6929066950942391, f(x) = 0.4801196881064208\n",
            "Iteration 36: x = -0.4233785621349076, f(x) = 0.17924940687542182\n",
            "Iteration 37: x = -0.09612753004452773, f(x) = 0.009240502032461581\n",
            "Iteration 38: x = 0.2176239048457197, f(x) = 0.04736016396029886\n",
            "Iteration 39: x = 0.45647541527779845, f(x) = 0.20836980475303854\n",
            "Iteration 40: x = 0.5801466916111095, f(x) = 0.33657018378731585\n",
            "Iteration 41: x = 0.5754215019888677, f(x) = 0.3311099049511244\n",
            "Iteration 42: x = 0.4560845309310764, f(x) = 0.20801309935462\n",
            "Iteration 43: x = 0.257464350792849, f(x) = 0.06628789192918322\n",
            "Iteration 44: x = 0.027213318509874518, f(x) = 0.0007405647043198791\n",
            "Iteration 45: x = -0.18545527424677744, f(x) = 0.03439365874594743\n",
            "Iteration 46: x = -0.3397659528784087, f(x) = 0.11544090273537305\n",
            "Iteration 47: x = -0.4106923730711951, f(x) = 0.1686682252988497\n",
            "Iteration 48: x = -0.39238767663046387, f(x) = 0.1539680887714535\n",
            "Iteration 49: x = -0.29743591450771295, f(x) = 0.08846812323903953\n",
            "Iteration 50: x = -0.15249214569569455, f(x) = 0.023253854498876934\n",
            "Iteration 51: x = 0.008455675374260924, f(x) = 7.149844603488261e-05\n",
            "Iteration 52: x = 0.15161757926236866, f(x) = 0.022987890341380643\n",
            "Iteration 53: x = 0.25013977690919187, f(x) = 0.06256990799218028\n",
            "Iteration 54: x = 0.2887817994094944, f(x) = 0.08339492767018546\n",
            "Iteration 55: x = 0.2658032597778678, f(x) = 0.07065137290854066\n",
            "Iteration 56: x = 0.1919619221538303, f(x) = 0.0368493795569932\n",
            "Iteration 57: x = 0.08711233386143048, f(x) = 0.007588558710785328\n",
            "Iteration 58: x = -0.024674762374015433, f(x) = 0.0006088438982141277\n",
            "Iteration 59: x = -0.12034819651111367, f(x) = 0.014483688403477633\n",
            "Iteration 60: x = -0.18238464793227935, f(x) = 0.03326415980138149\n",
            "Iteration 61: x = -0.20174052462487257, f(x) = 0.04069923927591882\n",
            "Iteration 62: x = -0.17881270872323196, f(x) = 0.031973984800939395\n",
            "Iteration 63: x = -0.12241513266710903, f(x) = 0.014985464705905905\n",
            "Iteration 64: x = -0.04717428768317658, f(x) = 0.0022254134184151054\n",
            "Iteration 65: x = 0.029977330338997937, f(x) = 0.0008986403342534062\n",
            "Iteration 66: x = 0.09341832049115542, f(x) = 0.00872698260338823\n",
            "Iteration 67: x = 0.1318315475298661, f(x) = 0.01737955692411934\n",
            "Iteration 68: x = 0.14003714235873246, f(x) = 0.0196104012399999\n",
            "Iteration 69: x = 0.1194147492329657, f(x) = 0.014259882334372084\n",
            "Iteration 70: x = 0.07697164557318248, f(x) = 0.005924634222243622\n",
            "Iteration 71: x = 0.02337852316474108, f(x) = 0.0005465553453643353\n",
            "Iteration 72: x = -0.029530991635804395, f(x) = 0.0008720794669939491\n",
            "Iteration 73: x = -0.07124335662913445, f(x) = 0.005075615863786035\n",
            "Iteration 74: x = -0.09453581379730461, f(x) = 0.008937020090318649\n",
            "Iteration 75: x = -0.09659186248919682, f(x) = 0.009329987899131907\n",
            "Iteration 76: x = -0.07912393381406045, f(x) = 0.0062605969022118185\n",
            "Iteration 77: x = -0.04757801124362562, f(x) = 0.0022636671538985662\n",
            "Iteration 78: x = -0.009671078681509154, f(x) = 9.352976286394085e-05\n",
            "Iteration 79: x = 0.026379376360697496, f(x) = 0.0006958714971793258\n",
            "Iteration 80: x = 0.05354891062654398, f(x) = 0.002867485829289595\n",
            "Iteration 81: x = 0.06729170934049702, f(x) = 0.004528174145965935\n",
            "Iteration 82: x = 0.06620188631495535, f(x) = 0.004382689751658273\n",
            "Iteration 83: x = 0.051980668328976784, f(x) = 0.00270198987992709\n",
            "Iteration 84: x = 0.028785438475800708, f(x) = 0.0008286014682441078\n",
            "Iteration 85: x = 0.0021526439127820957, f(x) = 4.63387581523781e-06\n",
            "Iteration 86: x = -0.022247399976491073, f(x) = 0.000494946805713975\n",
            "Iteration 87: x = -0.03975795948153871, f(x) = 0.0015806953421356735\n",
            "Iteration 88: x = -0.04756587113977384, f(x) = 0.00226251209728557\n",
            "Iteration 89: x = -0.04507981740423069, f(x) = 0.00203218993719878\n",
            "Iteration 90: x = -0.03382640556139572, f(x) = 0.0011442257132040232\n",
            "Iteration 91: x = -0.016933053790565096, f(x) = 0.00028672831067417094\n",
            "Iteration 92: x = 0.0016575735612954848, f(x) = 2.7475501111057963e-06\n",
            "Iteration 93: x = 0.018057623465710913, f(x) = 0.0003260777652293934\n",
            "Iteration 94: x = 0.02920614368654262, f(x) = 0.0008529988290389732\n",
            "Iteration 95: x = 0.03339858314798263, f(x) = 0.0011154653562927093\n",
            "Iteration 96: x = 0.030492062033682113, f(x) = 0.0009297658470659182\n",
            "Iteration 97: x = 0.021777780624075226, f(x) = 0.0004742717289103463\n",
            "Iteration 98: x = 0.009579371230613979, f(x) = 9.176435317391478e-05\n",
            "Iteration 99: x = -0.003315071469623938, f(x) = 1.0989698848714616e-05\n",
            "Iteration 100: x = -0.014257055605913276, f(x) = 0.00020326363455010316\n",
            "Final value: x = -0.014257055605913276, f(x) = 0.00020326363455010316\n"
          ]
        },
        {
          "output_type": "display_data",
          "data": {
            "text/plain": [
              "<Figure size 640x480 with 1 Axes>"
            ],
            "image/png": "[encoded data removed]"
          },
          "metadata": {}
        },
        {
          "output_type": "stream",
          "name": "stdout",
          "text": [
            "Final cost: 203696.146\n"
          ]
        }
      ]
    }
  ]
}